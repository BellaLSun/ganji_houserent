{
 "cells": [
  {
   "cell_type": "code",
   "execution_count": 7,
   "metadata": {},
   "outputs": [],
   "source": [
    "import pygal\n",
    "from IPython.display import HTML"
   ]
  },
  {
   "cell_type": "code",
   "execution_count": 22,
   "metadata": {},
   "outputs": [],
   "source": [
    "from sqlalchemy import create_engine  \n",
    "engine=create_engine('sqlite:///ganji_zufang.sqlite',echo=True)  \n",
    "\n",
    "from sqlalchemy import Table,Column,Integer,String,ForeignKey  \n",
    "from sqlalchemy.orm import sessionmaker\n",
    "from sqlalchemy.ext.declarative import declarative_base\n",
    "\n",
    "Base = declarative_base()\n",
    "DBSession = sessionmaker(bind=engine)\n",
    "session = DBSession()\n",
    "class ZuFang(Base):\n",
    "    __tablename__ = \"zufang\"\n",
    "    id = Column(Integer, primary_key=True)\n",
    "    title = Column(String(400))\n",
    "    rent = Column(String(400))\n",
    "    info = Column(String(400))\n",
    "    address = Column(String(400))\n",
    "    \n",
    "    @classmethod\n",
    "    def save(cls, data):\n",
    "        session.add(data)\n",
    "        session.commit()\n",
    "        return data.id"
   ]
  },
  {
   "cell_type": "code",
   "execution_count": 13,
   "metadata": {},
   "outputs": [
    {
     "name": "stdout",
     "output_type": "stream",
     "text": [
      "2018-09-04 00:20:25,598 INFO sqlalchemy.engine.base.Engine SELECT count(*) AS count_1 \n",
      "FROM (SELECT zufang.id AS zufang_id, zufang.title AS zufang_title, zufang.rent AS zufang_rent, zufang.info AS zufang_info, zufang.address AS zufang_address \n",
      "FROM zufang \n",
      "WHERE (zufang.info LIKE '%' || ? || '%')) AS anon_1\n",
      "2018-09-04 00:20:25,600 INFO sqlalchemy.engine.base.Engine ('豪华装修',)\n",
      "2018-09-04 00:20:25,616 INFO sqlalchemy.engine.base.Engine SELECT count(*) AS count_1 \n",
      "FROM (SELECT zufang.id AS zufang_id, zufang.title AS zufang_title, zufang.rent AS zufang_rent, zufang.info AS zufang_info, zufang.address AS zufang_address \n",
      "FROM zufang \n",
      "WHERE (zufang.info LIKE '%' || ? || '%')) AS anon_1\n",
      "2018-09-04 00:20:25,617 INFO sqlalchemy.engine.base.Engine ('精装修',)\n",
      "2018-09-04 00:20:25,637 INFO sqlalchemy.engine.base.Engine SELECT count(*) AS count_1 \n",
      "FROM (SELECT zufang.id AS zufang_id, zufang.title AS zufang_title, zufang.rent AS zufang_rent, zufang.info AS zufang_info, zufang.address AS zufang_address \n",
      "FROM zufang \n",
      "WHERE (zufang.info LIKE '%' || ? || '%')) AS anon_1\n",
      "2018-09-04 00:20:25,638 INFO sqlalchemy.engine.base.Engine ('简单装修',)\n",
      "2018-09-04 00:20:25,650 INFO sqlalchemy.engine.base.Engine SELECT count(*) AS count_1 \n",
      "FROM (SELECT zufang.id AS zufang_id, zufang.title AS zufang_title, zufang.rent AS zufang_rent, zufang.info AS zufang_info, zufang.address AS zufang_address \n",
      "FROM zufang \n",
      "WHERE (zufang.info LIKE '%' || ? || '%')) AS anon_1\n",
      "2018-09-04 00:20:25,651 INFO sqlalchemy.engine.base.Engine ('毛坯',)\n"
     ]
    }
   ],
   "source": [
    "hhzx = session.query(ZuFang).filter(ZuFang.info.contains(\"豪华装修\")).count()\n",
    "jzx = session.query(ZuFang).filter(ZuFang.info.contains(\"精装修\")).count()\n",
    "jdzx = session.query(ZuFang).filter(ZuFang.info.contains(\"简单装修\")).count()\n",
    "mp = session.query(ZuFang).filter(ZuFang.info.contains(\"毛坯\")).count()"
   ]
  },
  {
   "cell_type": "code",
   "execution_count": 17,
   "metadata": {},
   "outputs": [
    {
     "data": {
      "text/html": [
       "<?xml version='1.0' encoding='utf-8'?>\n",
       "<svg xmlns:xlink=\"http://www.w3.org/1999/xlink\" xmlns=\"http://www.w3.org/2000/svg\" id=\"chart-d6bbcf59-6c40-42b7-b505-dc155ce943c8\" class=\"pygal-chart\" viewBox=\"0 0 800 600\"><!--Generated with pygal 2.4.0 (lxml) ©Kozea 2012-2016 on 2018-09-04--><!--http://pygal.org--><!--http://github.com/Kozea/pygal--><defs><style type=\"text/css\">#chart-d6bbcf59-6c40-42b7-b505-dc155ce943c8{-webkit-user-select:none;-webkit-font-smoothing:antialiased;font-family:Consolas,\"Liberation Mono\",Menlo,Courier,monospace}#chart-d6bbcf59-6c40-42b7-b505-dc155ce943c8 .title{font-family:Consolas,\"Liberation Mono\",Menlo,Courier,monospace;font-size:16px}#chart-d6bbcf59-6c40-42b7-b505-dc155ce943c8 .legends .legend text{font-family:Consolas,\"Liberation Mono\",Menlo,Courier,monospace;font-size:14px}#chart-d6bbcf59-6c40-42b7-b505-dc155ce943c8 .axis text{font-family:Consolas,\"Liberation Mono\",Menlo,Courier,monospace;font-size:10px}#chart-d6bbcf59-6c40-42b7-b505-dc155ce943c8 .axis text.major{font-family:Consolas,\"Liberation Mono\",Menlo,Courier,monospace;font-size:10px}#chart-d6bbcf59-6c40-42b7-b505-dc155ce943c8 .text-overlay text.value{font-family:Consolas,\"Liberation Mono\",Menlo,Courier,monospace;font-size:16px}#chart-d6bbcf59-6c40-42b7-b505-dc155ce943c8 .text-overlay text.label{font-family:Consolas,\"Liberation Mono\",Menlo,Courier,monospace;font-size:10px}#chart-d6bbcf59-6c40-42b7-b505-dc155ce943c8 .tooltip{font-family:Consolas,\"Liberation Mono\",Menlo,Courier,monospace;font-size:14px}#chart-d6bbcf59-6c40-42b7-b505-dc155ce943c8 text.no_data{font-family:Consolas,\"Liberation Mono\",Menlo,Courier,monospace;font-size:64px}\n",
       "#chart-d6bbcf59-6c40-42b7-b505-dc155ce943c8{background-color:rgba(249,249,249,1)}#chart-d6bbcf59-6c40-42b7-b505-dc155ce943c8 path,#chart-d6bbcf59-6c40-42b7-b505-dc155ce943c8 line,#chart-d6bbcf59-6c40-42b7-b505-dc155ce943c8 rect,#chart-d6bbcf59-6c40-42b7-b505-dc155ce943c8 circle{-webkit-transition:150ms;-moz-transition:150ms;transition:150ms}#chart-d6bbcf59-6c40-42b7-b505-dc155ce943c8 .graph &gt; .background{fill:rgba(249,249,249,1)}#chart-d6bbcf59-6c40-42b7-b505-dc155ce943c8 .plot &gt; .background{fill:rgba(255,255,255,1)}#chart-d6bbcf59-6c40-42b7-b505-dc155ce943c8 .graph{fill:rgba(0,0,0,.87)}#chart-d6bbcf59-6c40-42b7-b505-dc155ce943c8 text.no_data{fill:rgba(0,0,0,1)}#chart-d6bbcf59-6c40-42b7-b505-dc155ce943c8 .title{fill:rgba(0,0,0,1)}#chart-d6bbcf59-6c40-42b7-b505-dc155ce943c8 .legends .legend text{fill:rgba(0,0,0,.87)}#chart-d6bbcf59-6c40-42b7-b505-dc155ce943c8 .legends .legend:hover text{fill:rgba(0,0,0,1)}#chart-d6bbcf59-6c40-42b7-b505-dc155ce943c8 .axis .line{stroke:rgba(0,0,0,1)}#chart-d6bbcf59-6c40-42b7-b505-dc155ce943c8 .axis .guide.line{stroke:rgba(0,0,0,.54)}#chart-d6bbcf59-6c40-42b7-b505-dc155ce943c8 .axis .major.line{stroke:rgba(0,0,0,.87)}#chart-d6bbcf59-6c40-42b7-b505-dc155ce943c8 .axis text.major{fill:rgba(0,0,0,1)}#chart-d6bbcf59-6c40-42b7-b505-dc155ce943c8 .axis.y .guides:hover .guide.line,#chart-d6bbcf59-6c40-42b7-b505-dc155ce943c8 .line-graph .axis.x .guides:hover .guide.line,#chart-d6bbcf59-6c40-42b7-b505-dc155ce943c8 .stackedline-graph .axis.x .guides:hover .guide.line,#chart-d6bbcf59-6c40-42b7-b505-dc155ce943c8 .xy-graph .axis.x .guides:hover .guide.line{stroke:rgba(0,0,0,1)}#chart-d6bbcf59-6c40-42b7-b505-dc155ce943c8 .axis .guides:hover text{fill:rgba(0,0,0,1)}#chart-d6bbcf59-6c40-42b7-b505-dc155ce943c8 .reactive{fill-opacity:.7;stroke-opacity:.8}#chart-d6bbcf59-6c40-42b7-b505-dc155ce943c8 .ci{stroke:rgba(0,0,0,.87)}#chart-d6bbcf59-6c40-42b7-b505-dc155ce943c8 .reactive.active,#chart-d6bbcf59-6c40-42b7-b505-dc155ce943c8 .active .reactive{fill-opacity:.8;stroke-opacity:.9;stroke-width:4}#chart-d6bbcf59-6c40-42b7-b505-dc155ce943c8 .ci .reactive.active{stroke-width:1.5}#chart-d6bbcf59-6c40-42b7-b505-dc155ce943c8 .series text{fill:rgba(0,0,0,1)}#chart-d6bbcf59-6c40-42b7-b505-dc155ce943c8 .tooltip rect{fill:rgba(255,255,255,1);stroke:rgba(0,0,0,1);-webkit-transition:opacity 150ms;-moz-transition:opacity 150ms;transition:opacity 150ms}#chart-d6bbcf59-6c40-42b7-b505-dc155ce943c8 .tooltip .label{fill:rgba(0,0,0,.87)}#chart-d6bbcf59-6c40-42b7-b505-dc155ce943c8 .tooltip .label{fill:rgba(0,0,0,.87)}#chart-d6bbcf59-6c40-42b7-b505-dc155ce943c8 .tooltip .legend{font-size:.8em;fill:rgba(0,0,0,.54)}#chart-d6bbcf59-6c40-42b7-b505-dc155ce943c8 .tooltip .x_label{font-size:.6em;fill:rgba(0,0,0,1)}#chart-d6bbcf59-6c40-42b7-b505-dc155ce943c8 .tooltip .xlink{font-size:.5em;text-decoration:underline}#chart-d6bbcf59-6c40-42b7-b505-dc155ce943c8 .tooltip .value{font-size:1.5em}#chart-d6bbcf59-6c40-42b7-b505-dc155ce943c8 .bound{font-size:.5em}#chart-d6bbcf59-6c40-42b7-b505-dc155ce943c8 .max-value{font-size:.75em;fill:rgba(0,0,0,.54)}#chart-d6bbcf59-6c40-42b7-b505-dc155ce943c8 .map-element{fill:rgba(255,255,255,1);stroke:rgba(0,0,0,.54) !important}#chart-d6bbcf59-6c40-42b7-b505-dc155ce943c8 .map-element .reactive{fill-opacity:inherit;stroke-opacity:inherit}#chart-d6bbcf59-6c40-42b7-b505-dc155ce943c8 .color-0,#chart-d6bbcf59-6c40-42b7-b505-dc155ce943c8 .color-0 a:visited{stroke:#F44336;fill:#F44336}#chart-d6bbcf59-6c40-42b7-b505-dc155ce943c8 .color-1,#chart-d6bbcf59-6c40-42b7-b505-dc155ce943c8 .color-1 a:visited{stroke:#3F51B5;fill:#3F51B5}#chart-d6bbcf59-6c40-42b7-b505-dc155ce943c8 .color-2,#chart-d6bbcf59-6c40-42b7-b505-dc155ce943c8 .color-2 a:visited{stroke:#009688;fill:#009688}#chart-d6bbcf59-6c40-42b7-b505-dc155ce943c8 .text-overlay .color-0 text{fill:black}#chart-d6bbcf59-6c40-42b7-b505-dc155ce943c8 .text-overlay .color-1 text{fill:black}#chart-d6bbcf59-6c40-42b7-b505-dc155ce943c8 .text-overlay .color-2 text{fill:black}\n",
       "#chart-d6bbcf59-6c40-42b7-b505-dc155ce943c8 text.no_data{text-anchor:middle}#chart-d6bbcf59-6c40-42b7-b505-dc155ce943c8 .guide.line{fill:none}#chart-d6bbcf59-6c40-42b7-b505-dc155ce943c8 .centered{text-anchor:middle}#chart-d6bbcf59-6c40-42b7-b505-dc155ce943c8 .title{text-anchor:middle}#chart-d6bbcf59-6c40-42b7-b505-dc155ce943c8 .legends .legend text{fill-opacity:1}#chart-d6bbcf59-6c40-42b7-b505-dc155ce943c8 .axis.x text{text-anchor:middle}#chart-d6bbcf59-6c40-42b7-b505-dc155ce943c8 .axis.x:not(.web) text[transform]{text-anchor:start}#chart-d6bbcf59-6c40-42b7-b505-dc155ce943c8 .axis.x:not(.web) text[transform].backwards{text-anchor:end}#chart-d6bbcf59-6c40-42b7-b505-dc155ce943c8 .axis.y text{text-anchor:end}#chart-d6bbcf59-6c40-42b7-b505-dc155ce943c8 .axis.y text[transform].backwards{text-anchor:start}#chart-d6bbcf59-6c40-42b7-b505-dc155ce943c8 .axis.y2 text{text-anchor:start}#chart-d6bbcf59-6c40-42b7-b505-dc155ce943c8 .axis.y2 text[transform].backwards{text-anchor:end}#chart-d6bbcf59-6c40-42b7-b505-dc155ce943c8 .axis .guide.line{stroke-dasharray:4,4}#chart-d6bbcf59-6c40-42b7-b505-dc155ce943c8 .axis .major.guide.line{stroke-dasharray:6,6}#chart-d6bbcf59-6c40-42b7-b505-dc155ce943c8 .horizontal .axis.y .guide.line,#chart-d6bbcf59-6c40-42b7-b505-dc155ce943c8 .horizontal .axis.y2 .guide.line,#chart-d6bbcf59-6c40-42b7-b505-dc155ce943c8 .vertical .axis.x .guide.line{opacity:0}#chart-d6bbcf59-6c40-42b7-b505-dc155ce943c8 .horizontal .axis.always_show .guide.line,#chart-d6bbcf59-6c40-42b7-b505-dc155ce943c8 .vertical .axis.always_show .guide.line{opacity:1 !important}#chart-d6bbcf59-6c40-42b7-b505-dc155ce943c8 .axis.y .guides:hover .guide.line,#chart-d6bbcf59-6c40-42b7-b505-dc155ce943c8 .axis.y2 .guides:hover .guide.line,#chart-d6bbcf59-6c40-42b7-b505-dc155ce943c8 .axis.x .guides:hover .guide.line{opacity:1}#chart-d6bbcf59-6c40-42b7-b505-dc155ce943c8 .axis .guides:hover text{opacity:1}#chart-d6bbcf59-6c40-42b7-b505-dc155ce943c8 .nofill{fill:none}#chart-d6bbcf59-6c40-42b7-b505-dc155ce943c8 .subtle-fill{fill-opacity:.2}#chart-d6bbcf59-6c40-42b7-b505-dc155ce943c8 .dot{stroke-width:1px;fill-opacity:1}#chart-d6bbcf59-6c40-42b7-b505-dc155ce943c8 .dot.active{stroke-width:5px}#chart-d6bbcf59-6c40-42b7-b505-dc155ce943c8 .dot.negative{fill:transparent}#chart-d6bbcf59-6c40-42b7-b505-dc155ce943c8 text,#chart-d6bbcf59-6c40-42b7-b505-dc155ce943c8 tspan{stroke:none !important}#chart-d6bbcf59-6c40-42b7-b505-dc155ce943c8 .series text.active{opacity:1}#chart-d6bbcf59-6c40-42b7-b505-dc155ce943c8 .tooltip rect{fill-opacity:.95;stroke-width:.5}#chart-d6bbcf59-6c40-42b7-b505-dc155ce943c8 .tooltip text{fill-opacity:1}#chart-d6bbcf59-6c40-42b7-b505-dc155ce943c8 .showable{visibility:hidden}#chart-d6bbcf59-6c40-42b7-b505-dc155ce943c8 .showable.shown{visibility:visible}#chart-d6bbcf59-6c40-42b7-b505-dc155ce943c8 .gauge-background{fill:rgba(229,229,229,1);stroke:none}#chart-d6bbcf59-6c40-42b7-b505-dc155ce943c8 .bg-lines{stroke:rgba(249,249,249,1);stroke-width:2px}</style><script type=\"text/javascript\">window.pygal = window.pygal || {};window.pygal.config = window.pygal.config || {};window.pygal.config['d6bbcf59-6c40-42b7-b505-dc155ce943c8'] = {\"allow_interruptions\": false, \"box_mode\": \"extremes\", \"classes\": [\"pygal-chart\"], \"css\": [\"file://style.css\", \"file://graph.css\"], \"defs\": [], \"disable_xml_declaration\": false, \"dots_size\": 2.5, \"dynamic_print_values\": false, \"explicit_size\": false, \"fill\": false, \"force_uri_protocol\": \"https\", \"formatter\": null, \"half_pie\": false, \"height\": 600, \"include_x_axis\": false, \"inner_radius\": 0, \"interpolate\": null, \"interpolation_parameters\": {}, \"interpolation_precision\": 250, \"inverse_y_axis\": false, \"js\": [\"//kozea.github.io/pygal.js/2.0.x/pygal-tooltips.min.js\"], \"legend_at_bottom\": false, \"legend_at_bottom_columns\": null, \"legend_box_size\": 12, \"logarithmic\": false, \"margin\": 20, \"margin_bottom\": null, \"margin_left\": null, \"margin_right\": null, \"margin_top\": null, \"max_scale\": 16, \"min_scale\": 4, \"missing_value_fill_truncation\": \"x\", \"no_data_text\": \"No data\", \"no_prefix\": false, \"order_min\": null, \"pretty_print\": false, \"print_labels\": false, \"print_values\": false, \"print_values_position\": \"center\", \"print_zeroes\": true, \"range\": null, \"rounded_bars\": null, \"secondary_range\": null, \"show_dots\": true, \"show_legend\": true, \"show_minor_x_labels\": true, \"show_minor_y_labels\": true, \"show_only_major_dots\": false, \"show_x_guides\": true, \"show_x_labels\": true, \"show_y_guides\": false, \"show_y_labels\": true, \"spacing\": 10, \"stack_from_top\": false, \"strict\": false, \"stroke\": true, \"stroke_style\": null, \"style\": {\"background\": \"rgba(249, 249, 249, 1)\", \"ci_colors\": [], \"colors\": [\"#F44336\", \"#3F51B5\", \"#009688\", \"#FFC107\", \"#FF5722\", \"#9C27B0\", \"#03A9F4\", \"#8BC34A\", \"#FF9800\", \"#E91E63\", \"#2196F3\", \"#4CAF50\", \"#FFEB3B\", \"#673AB7\", \"#00BCD4\", \"#CDDC39\", \"#9E9E9E\", \"#607D8B\"], \"font_family\": \"Consolas, \\\"Liberation Mono\\\", Menlo, Courier, monospace\", \"foreground\": \"rgba(0, 0, 0, .87)\", \"foreground_strong\": \"rgba(0, 0, 0, 1)\", \"foreground_subtle\": \"rgba(0, 0, 0, .54)\", \"guide_stroke_dasharray\": \"4,4\", \"label_font_family\": \"Consolas, \\\"Liberation Mono\\\", Menlo, Courier, monospace\", \"label_font_size\": 10, \"legend_font_family\": \"Consolas, \\\"Liberation Mono\\\", Menlo, Courier, monospace\", \"legend_font_size\": 14, \"major_guide_stroke_dasharray\": \"6,6\", \"major_label_font_family\": \"Consolas, \\\"Liberation Mono\\\", Menlo, Courier, monospace\", \"major_label_font_size\": 10, \"no_data_font_family\": \"Consolas, \\\"Liberation Mono\\\", Menlo, Courier, monospace\", \"no_data_font_size\": 64, \"opacity\": \".7\", \"opacity_hover\": \".8\", \"plot_background\": \"rgba(255, 255, 255, 1)\", \"stroke_opacity\": \".8\", \"stroke_opacity_hover\": \".9\", \"title_font_family\": \"Consolas, \\\"Liberation Mono\\\", Menlo, Courier, monospace\", \"title_font_size\": 16, \"tooltip_font_family\": \"Consolas, \\\"Liberation Mono\\\", Menlo, Courier, monospace\", \"tooltip_font_size\": 14, \"transition\": \"150ms\", \"value_background\": \"rgba(229, 229, 229, 1)\", \"value_colors\": [], \"value_font_family\": \"Consolas, \\\"Liberation Mono\\\", Menlo, Courier, monospace\", \"value_font_size\": 16, \"value_label_font_family\": \"Consolas, \\\"Liberation Mono\\\", Menlo, Courier, monospace\", \"value_label_font_size\": 10}, \"title\": \"\\u88c5\\u4fee\\u7c7b\\u578b\", \"tooltip_border_radius\": 0, \"tooltip_fancy_mode\": true, \"truncate_label\": null, \"truncate_legend\": null, \"width\": 800, \"x_label_rotation\": 0, \"x_labels\": null, \"x_labels_major\": null, \"x_labels_major_count\": null, \"x_labels_major_every\": null, \"x_title\": null, \"xrange\": null, \"y_label_rotation\": 0, \"y_labels\": null, \"y_labels_major\": null, \"y_labels_major_count\": null, \"y_labels_major_every\": null, \"y_title\": null, \"zero\": 0, \"legends\": [\"\\u8c6a\\u534e\\u88c5\\u4fee 624\", \"\\u7cbe\\u88c5\\u4fee 10260\", \"\\u7b80\\u5355\\u88c5\\u4fee 2394\"]}</script><script type=\"text/javascript\" xlink:href=\"https://kozea.github.io/pygal.js/2.0.x/pygal-tooltips.min.js\"/></defs><title>装修类型</title><g class=\"graph horizontalbar-graph horizontal\"><rect class=\"background\" height=\"600\" width=\"800\" x=\"0\" y=\"0\"/><g class=\"plot\" transform=\"translate(117, 46)\"><rect class=\"background\" height=\"514\" width=\"662.4\" x=\"0\" y=\"0\"/><g class=\"axis x always_show\"><g class=\"guides\"><path class=\"axis major line\" d=\"M12.738462 0.000000 v514.000000\"/><text class=\"major\" x=\"12.738461538461538\" y=\"529.0\">0</text></g><g class=\"guides\"><path class=\"guide line\" d=\"M74.816734 0.000000 v514.000000\"/><text class=\"\" x=\"74.81673414304991\" y=\"529.0\">1000</text></g><g class=\"guides\"><path class=\"guide line\" d=\"M136.895007 0.000000 v514.000000\"/><text class=\"\" x=\"136.8950067476383\" y=\"529.0\">2000</text></g><g class=\"guides\"><path class=\"guide line\" d=\"M198.973279 0.000000 v514.000000\"/><text class=\"\" x=\"198.97327935222668\" y=\"529.0\">3000</text></g><g class=\"guides\"><path class=\"guide line\" d=\"M261.051552 0.000000 v514.000000\"/><text class=\"\" x=\"261.0515519568151\" y=\"529.0\">4000</text></g><g class=\"guides\"><path class=\"major guide line\" d=\"M323.129825 0.000000 v514.000000\"/><text class=\"major\" x=\"323.12982456140344\" y=\"529.0\">5000</text></g><g class=\"guides\"><path class=\"guide line\" d=\"M385.208097 0.000000 v514.000000\"/><text class=\"\" x=\"385.20809716599183\" y=\"529.0\">6000</text></g><g class=\"guides\"><path class=\"guide line\" d=\"M447.286370 0.000000 v514.000000\"/><text class=\"\" x=\"447.28636977058017\" y=\"529.0\">7000</text></g><g class=\"guides\"><path class=\"guide line\" d=\"M509.364642 0.000000 v514.000000\"/><text class=\"\" x=\"509.36464237516867\" y=\"529.0\">8000</text></g><g class=\"guides\"><path class=\"guide line\" d=\"M571.442915 0.000000 v514.000000\"/><text class=\"\" x=\"571.442914979757\" y=\"529.0\">9000</text></g><g class=\"guides\"><path class=\"major guide line\" d=\"M633.521188 0.000000 v514.000000\"/><text class=\"major\" x=\"633.5211875843454\" y=\"529.0\">10000</text></g></g><g class=\"series serie-2 color-2\"><g class=\"bars\"><g class=\"bar\"><rect class=\"rect reactive tooltip-trigger\" height=\"127.5774358974359\" rx=\"0\" ry=\"0\" width=\"148.61538461538458\" x=\"12.738461538461536\" y=\"338.1856410256411\"/><desc class=\"value\">2394</desc><desc class=\"x centered\">87.04615384615383</desc><desc class=\"y centered\">401.97435897435906</desc></g></g></g><g class=\"series serie-1 color-1\"><g class=\"bars\"><g class=\"bar\"><rect class=\"rect reactive tooltip-trigger\" height=\"127.5774358974359\" rx=\"0\" ry=\"0\" width=\"636.9230769230768\" x=\"12.738461538461593\" y=\"193.21128205128213\"/><desc class=\"value\">10260</desc><desc class=\"x centered\">331.2</desc><desc class=\"y centered\">257.0000000000001</desc></g></g></g><g class=\"series serie-0 color-0\"><g class=\"bars\"><g class=\"bar\"><rect class=\"rect reactive tooltip-trigger\" height=\"127.5774358974359\" rx=\"0\" ry=\"0\" width=\"38.73684210526315\" x=\"12.738461538461536\" y=\"48.236923076923105\"/><desc class=\"value\">624</desc><desc class=\"x centered\">32.10688259109311</desc><desc class=\"y centered\">112.02564102564105</desc></g></g></g></g><g class=\"titles\"><text class=\"title plot_title\" x=\"400.0\" y=\"26\">装修类型</text></g><g class=\"plot overlay\" transform=\"translate(117, 46)\"><g class=\"series serie-2 color-2\"/><g class=\"series serie-1 color-1\"/><g class=\"series serie-0 color-0\"/></g><g class=\"plot text-overlay\" transform=\"translate(117, 46)\"><g class=\"series serie-2 color-2\"/><g class=\"series serie-1 color-1\"/><g class=\"series serie-0 color-0\"/></g><g class=\"plot tooltip-overlay\" transform=\"translate(117, 46)\"><g class=\"tooltip\" style=\"opacity: 0\" transform=\"translate(0 0)\"><rect class=\"tooltip-box\" height=\"0\" rx=\"0\" ry=\"0\" width=\"0\"/><g class=\"text\"/></g></g><g class=\"legends\" transform=\"translate(10, 56)\"><g class=\"legend reactive activate-serie\" id=\"activate-serie-0\"><rect class=\"color-0 reactive\" height=\"12\" width=\"12\" x=\"0.0\" y=\"1.0\"/><text x=\"17.0\" y=\"11.2\">豪华装修 624</text></g><g class=\"legend reactive activate-serie\" id=\"activate-serie-1\"><rect class=\"color-1 reactive\" height=\"12\" width=\"12\" x=\"0.0\" y=\"22.0\"/><text x=\"17.0\" y=\"32.2\">精装修 10260</text></g><g class=\"legend reactive activate-serie\" id=\"activate-serie-2\"><rect class=\"color-2 reactive\" height=\"12\" width=\"12\" x=\"0.0\" y=\"43.0\"/><text x=\"17.0\" y=\"53.2\">简单装修 2394</text></g></g><g class=\"legends\" transform=\"translate(790, 56)\"/></g></svg>"
      ],
      "text/plain": [
       "<IPython.core.display.HTML object>"
      ]
     },
     "execution_count": 17,
     "metadata": {},
     "output_type": "execute_result"
    }
   ],
   "source": [
    "lineh_chart = pygal.HorizontalBar()\n",
    "lineh_chart.title = '装修类型'\n",
    "lineh_chart.add('豪华装修 {}'.format(hhzx), hhzx)\n",
    "lineh_chart.add('精装修 {}'.format(jzx), jzx)\n",
    "lineh_chart.add('简单装修 {}'.format(jdzx), jdzx)\n",
    "HTML(lineh_chart.render().decode())"
   ]
  },
  {
   "cell_type": "code",
   "execution_count": 19,
   "metadata": {},
   "outputs": [
    {
     "name": "stdout",
     "output_type": "stream",
     "text": [
      "2018-09-04 00:29:17,600 INFO sqlalchemy.engine.base.Engine SELECT count(*) AS count_1 \n",
      "FROM (SELECT zufang.id AS zufang_id, zufang.title AS zufang_title, zufang.rent AS zufang_rent, zufang.info AS zufang_info, zufang.address AS zufang_address \n",
      "FROM zufang \n",
      "WHERE (zufang.info LIKE '%' || ? || '%')) AS anon_1\n",
      "2018-09-04 00:29:17,602 INFO sqlalchemy.engine.base.Engine ('整租',)\n",
      "2018-09-04 00:29:17,627 INFO sqlalchemy.engine.base.Engine SELECT count(*) AS count_1 \n",
      "FROM (SELECT zufang.id AS zufang_id, zufang.title AS zufang_title, zufang.rent AS zufang_rent, zufang.info AS zufang_info, zufang.address AS zufang_address \n",
      "FROM zufang \n",
      "WHERE (zufang.info LIKE '%' || ? || '%')) AS anon_1\n",
      "2018-09-04 00:29:17,630 INFO sqlalchemy.engine.base.Engine ('主卧',)\n",
      "2018-09-04 00:29:17,645 INFO sqlalchemy.engine.base.Engine SELECT count(*) AS count_1 \n",
      "FROM (SELECT zufang.id AS zufang_id, zufang.title AS zufang_title, zufang.rent AS zufang_rent, zufang.info AS zufang_info, zufang.address AS zufang_address \n",
      "FROM zufang \n",
      "WHERE (zufang.info LIKE '%' || ? || '%')) AS anon_1\n",
      "2018-09-04 00:29:17,647 INFO sqlalchemy.engine.base.Engine ('次卧',)\n"
     ]
    }
   ],
   "source": [
    "zz = session.query(ZuFang).filter(ZuFang.info.contains(\"整租\")).count()\n",
    "zw = session.query(ZuFang).filter(ZuFang.info.contains(\"主卧\")).count()\n",
    "cw = session.query(ZuFang).filter(ZuFang.info.contains(\"次卧\")).count()"
   ]
  },
  {
   "cell_type": "code",
   "execution_count": 21,
   "metadata": {},
   "outputs": [
    {
     "data": {
      "text/html": [
       "<?xml version='1.0' encoding='utf-8'?>\n",
       "<svg xmlns:xlink=\"http://www.w3.org/1999/xlink\" xmlns=\"http://www.w3.org/2000/svg\" id=\"chart-f2b20f16-a4f3-4ae5-8db7-bcc7830da190\" class=\"pygal-chart\" viewBox=\"0 0 800 600\"><!--Generated with pygal 2.4.0 (lxml) ©Kozea 2012-2016 on 2018-09-04--><!--http://pygal.org--><!--http://github.com/Kozea/pygal--><defs><style type=\"text/css\">#chart-f2b20f16-a4f3-4ae5-8db7-bcc7830da190{-webkit-user-select:none;-webkit-font-smoothing:antialiased;font-family:Consolas,\"Liberation Mono\",Menlo,Courier,monospace}#chart-f2b20f16-a4f3-4ae5-8db7-bcc7830da190 .title{font-family:Consolas,\"Liberation Mono\",Menlo,Courier,monospace;font-size:16px}#chart-f2b20f16-a4f3-4ae5-8db7-bcc7830da190 .legends .legend text{font-family:Consolas,\"Liberation Mono\",Menlo,Courier,monospace;font-size:14px}#chart-f2b20f16-a4f3-4ae5-8db7-bcc7830da190 .axis text{font-family:Consolas,\"Liberation Mono\",Menlo,Courier,monospace;font-size:10px}#chart-f2b20f16-a4f3-4ae5-8db7-bcc7830da190 .axis text.major{font-family:Consolas,\"Liberation Mono\",Menlo,Courier,monospace;font-size:10px}#chart-f2b20f16-a4f3-4ae5-8db7-bcc7830da190 .text-overlay text.value{font-family:Consolas,\"Liberation Mono\",Menlo,Courier,monospace;font-size:16px}#chart-f2b20f16-a4f3-4ae5-8db7-bcc7830da190 .text-overlay text.label{font-family:Consolas,\"Liberation Mono\",Menlo,Courier,monospace;font-size:10px}#chart-f2b20f16-a4f3-4ae5-8db7-bcc7830da190 .tooltip{font-family:Consolas,\"Liberation Mono\",Menlo,Courier,monospace;font-size:14px}#chart-f2b20f16-a4f3-4ae5-8db7-bcc7830da190 text.no_data{font-family:Consolas,\"Liberation Mono\",Menlo,Courier,monospace;font-size:64px}\n",
       "#chart-f2b20f16-a4f3-4ae5-8db7-bcc7830da190{background-color:rgba(249,249,249,1)}#chart-f2b20f16-a4f3-4ae5-8db7-bcc7830da190 path,#chart-f2b20f16-a4f3-4ae5-8db7-bcc7830da190 line,#chart-f2b20f16-a4f3-4ae5-8db7-bcc7830da190 rect,#chart-f2b20f16-a4f3-4ae5-8db7-bcc7830da190 circle{-webkit-transition:150ms;-moz-transition:150ms;transition:150ms}#chart-f2b20f16-a4f3-4ae5-8db7-bcc7830da190 .graph &gt; .background{fill:rgba(249,249,249,1)}#chart-f2b20f16-a4f3-4ae5-8db7-bcc7830da190 .plot &gt; .background{fill:rgba(255,255,255,1)}#chart-f2b20f16-a4f3-4ae5-8db7-bcc7830da190 .graph{fill:rgba(0,0,0,.87)}#chart-f2b20f16-a4f3-4ae5-8db7-bcc7830da190 text.no_data{fill:rgba(0,0,0,1)}#chart-f2b20f16-a4f3-4ae5-8db7-bcc7830da190 .title{fill:rgba(0,0,0,1)}#chart-f2b20f16-a4f3-4ae5-8db7-bcc7830da190 .legends .legend text{fill:rgba(0,0,0,.87)}#chart-f2b20f16-a4f3-4ae5-8db7-bcc7830da190 .legends .legend:hover text{fill:rgba(0,0,0,1)}#chart-f2b20f16-a4f3-4ae5-8db7-bcc7830da190 .axis .line{stroke:rgba(0,0,0,1)}#chart-f2b20f16-a4f3-4ae5-8db7-bcc7830da190 .axis .guide.line{stroke:rgba(0,0,0,.54)}#chart-f2b20f16-a4f3-4ae5-8db7-bcc7830da190 .axis .major.line{stroke:rgba(0,0,0,.87)}#chart-f2b20f16-a4f3-4ae5-8db7-bcc7830da190 .axis text.major{fill:rgba(0,0,0,1)}#chart-f2b20f16-a4f3-4ae5-8db7-bcc7830da190 .axis.y .guides:hover .guide.line,#chart-f2b20f16-a4f3-4ae5-8db7-bcc7830da190 .line-graph .axis.x .guides:hover .guide.line,#chart-f2b20f16-a4f3-4ae5-8db7-bcc7830da190 .stackedline-graph .axis.x .guides:hover .guide.line,#chart-f2b20f16-a4f3-4ae5-8db7-bcc7830da190 .xy-graph .axis.x .guides:hover .guide.line{stroke:rgba(0,0,0,1)}#chart-f2b20f16-a4f3-4ae5-8db7-bcc7830da190 .axis .guides:hover text{fill:rgba(0,0,0,1)}#chart-f2b20f16-a4f3-4ae5-8db7-bcc7830da190 .reactive{fill-opacity:.7;stroke-opacity:.8}#chart-f2b20f16-a4f3-4ae5-8db7-bcc7830da190 .ci{stroke:rgba(0,0,0,.87)}#chart-f2b20f16-a4f3-4ae5-8db7-bcc7830da190 .reactive.active,#chart-f2b20f16-a4f3-4ae5-8db7-bcc7830da190 .active .reactive{fill-opacity:.8;stroke-opacity:.9;stroke-width:4}#chart-f2b20f16-a4f3-4ae5-8db7-bcc7830da190 .ci .reactive.active{stroke-width:1.5}#chart-f2b20f16-a4f3-4ae5-8db7-bcc7830da190 .series text{fill:rgba(0,0,0,1)}#chart-f2b20f16-a4f3-4ae5-8db7-bcc7830da190 .tooltip rect{fill:rgba(255,255,255,1);stroke:rgba(0,0,0,1);-webkit-transition:opacity 150ms;-moz-transition:opacity 150ms;transition:opacity 150ms}#chart-f2b20f16-a4f3-4ae5-8db7-bcc7830da190 .tooltip .label{fill:rgba(0,0,0,.87)}#chart-f2b20f16-a4f3-4ae5-8db7-bcc7830da190 .tooltip .label{fill:rgba(0,0,0,.87)}#chart-f2b20f16-a4f3-4ae5-8db7-bcc7830da190 .tooltip .legend{font-size:.8em;fill:rgba(0,0,0,.54)}#chart-f2b20f16-a4f3-4ae5-8db7-bcc7830da190 .tooltip .x_label{font-size:.6em;fill:rgba(0,0,0,1)}#chart-f2b20f16-a4f3-4ae5-8db7-bcc7830da190 .tooltip .xlink{font-size:.5em;text-decoration:underline}#chart-f2b20f16-a4f3-4ae5-8db7-bcc7830da190 .tooltip .value{font-size:1.5em}#chart-f2b20f16-a4f3-4ae5-8db7-bcc7830da190 .bound{font-size:.5em}#chart-f2b20f16-a4f3-4ae5-8db7-bcc7830da190 .max-value{font-size:.75em;fill:rgba(0,0,0,.54)}#chart-f2b20f16-a4f3-4ae5-8db7-bcc7830da190 .map-element{fill:rgba(255,255,255,1);stroke:rgba(0,0,0,.54) !important}#chart-f2b20f16-a4f3-4ae5-8db7-bcc7830da190 .map-element .reactive{fill-opacity:inherit;stroke-opacity:inherit}#chart-f2b20f16-a4f3-4ae5-8db7-bcc7830da190 .color-0,#chart-f2b20f16-a4f3-4ae5-8db7-bcc7830da190 .color-0 a:visited{stroke:#F44336;fill:#F44336}#chart-f2b20f16-a4f3-4ae5-8db7-bcc7830da190 .color-1,#chart-f2b20f16-a4f3-4ae5-8db7-bcc7830da190 .color-1 a:visited{stroke:#3F51B5;fill:#3F51B5}#chart-f2b20f16-a4f3-4ae5-8db7-bcc7830da190 .color-2,#chart-f2b20f16-a4f3-4ae5-8db7-bcc7830da190 .color-2 a:visited{stroke:#009688;fill:#009688}#chart-f2b20f16-a4f3-4ae5-8db7-bcc7830da190 .text-overlay .color-0 text{fill:black}#chart-f2b20f16-a4f3-4ae5-8db7-bcc7830da190 .text-overlay .color-1 text{fill:black}#chart-f2b20f16-a4f3-4ae5-8db7-bcc7830da190 .text-overlay .color-2 text{fill:black}\n",
       "#chart-f2b20f16-a4f3-4ae5-8db7-bcc7830da190 text.no_data{text-anchor:middle}#chart-f2b20f16-a4f3-4ae5-8db7-bcc7830da190 .guide.line{fill:none}#chart-f2b20f16-a4f3-4ae5-8db7-bcc7830da190 .centered{text-anchor:middle}#chart-f2b20f16-a4f3-4ae5-8db7-bcc7830da190 .title{text-anchor:middle}#chart-f2b20f16-a4f3-4ae5-8db7-bcc7830da190 .legends .legend text{fill-opacity:1}#chart-f2b20f16-a4f3-4ae5-8db7-bcc7830da190 .axis.x text{text-anchor:middle}#chart-f2b20f16-a4f3-4ae5-8db7-bcc7830da190 .axis.x:not(.web) text[transform]{text-anchor:start}#chart-f2b20f16-a4f3-4ae5-8db7-bcc7830da190 .axis.x:not(.web) text[transform].backwards{text-anchor:end}#chart-f2b20f16-a4f3-4ae5-8db7-bcc7830da190 .axis.y text{text-anchor:end}#chart-f2b20f16-a4f3-4ae5-8db7-bcc7830da190 .axis.y text[transform].backwards{text-anchor:start}#chart-f2b20f16-a4f3-4ae5-8db7-bcc7830da190 .axis.y2 text{text-anchor:start}#chart-f2b20f16-a4f3-4ae5-8db7-bcc7830da190 .axis.y2 text[transform].backwards{text-anchor:end}#chart-f2b20f16-a4f3-4ae5-8db7-bcc7830da190 .axis .guide.line{stroke-dasharray:4,4}#chart-f2b20f16-a4f3-4ae5-8db7-bcc7830da190 .axis .major.guide.line{stroke-dasharray:6,6}#chart-f2b20f16-a4f3-4ae5-8db7-bcc7830da190 .horizontal .axis.y .guide.line,#chart-f2b20f16-a4f3-4ae5-8db7-bcc7830da190 .horizontal .axis.y2 .guide.line,#chart-f2b20f16-a4f3-4ae5-8db7-bcc7830da190 .vertical .axis.x .guide.line{opacity:0}#chart-f2b20f16-a4f3-4ae5-8db7-bcc7830da190 .horizontal .axis.always_show .guide.line,#chart-f2b20f16-a4f3-4ae5-8db7-bcc7830da190 .vertical .axis.always_show .guide.line{opacity:1 !important}#chart-f2b20f16-a4f3-4ae5-8db7-bcc7830da190 .axis.y .guides:hover .guide.line,#chart-f2b20f16-a4f3-4ae5-8db7-bcc7830da190 .axis.y2 .guides:hover .guide.line,#chart-f2b20f16-a4f3-4ae5-8db7-bcc7830da190 .axis.x .guides:hover .guide.line{opacity:1}#chart-f2b20f16-a4f3-4ae5-8db7-bcc7830da190 .axis .guides:hover text{opacity:1}#chart-f2b20f16-a4f3-4ae5-8db7-bcc7830da190 .nofill{fill:none}#chart-f2b20f16-a4f3-4ae5-8db7-bcc7830da190 .subtle-fill{fill-opacity:.2}#chart-f2b20f16-a4f3-4ae5-8db7-bcc7830da190 .dot{stroke-width:1px;fill-opacity:1}#chart-f2b20f16-a4f3-4ae5-8db7-bcc7830da190 .dot.active{stroke-width:5px}#chart-f2b20f16-a4f3-4ae5-8db7-bcc7830da190 .dot.negative{fill:transparent}#chart-f2b20f16-a4f3-4ae5-8db7-bcc7830da190 text,#chart-f2b20f16-a4f3-4ae5-8db7-bcc7830da190 tspan{stroke:none !important}#chart-f2b20f16-a4f3-4ae5-8db7-bcc7830da190 .series text.active{opacity:1}#chart-f2b20f16-a4f3-4ae5-8db7-bcc7830da190 .tooltip rect{fill-opacity:.95;stroke-width:.5}#chart-f2b20f16-a4f3-4ae5-8db7-bcc7830da190 .tooltip text{fill-opacity:1}#chart-f2b20f16-a4f3-4ae5-8db7-bcc7830da190 .showable{visibility:hidden}#chart-f2b20f16-a4f3-4ae5-8db7-bcc7830da190 .showable.shown{visibility:visible}#chart-f2b20f16-a4f3-4ae5-8db7-bcc7830da190 .gauge-background{fill:rgba(229,229,229,1);stroke:none}#chart-f2b20f16-a4f3-4ae5-8db7-bcc7830da190 .bg-lines{stroke:rgba(249,249,249,1);stroke-width:2px}</style><script type=\"text/javascript\">window.pygal = window.pygal || {};window.pygal.config = window.pygal.config || {};window.pygal.config['f2b20f16-a4f3-4ae5-8db7-bcc7830da190'] = {\"allow_interruptions\": false, \"box_mode\": \"extremes\", \"classes\": [\"pygal-chart\"], \"css\": [\"file://style.css\", \"file://graph.css\"], \"defs\": [], \"disable_xml_declaration\": false, \"dots_size\": 2.5, \"dynamic_print_values\": false, \"explicit_size\": false, \"fill\": false, \"force_uri_protocol\": \"https\", \"formatter\": null, \"half_pie\": false, \"height\": 600, \"include_x_axis\": false, \"inner_radius\": 0, \"interpolate\": null, \"interpolation_parameters\": {}, \"interpolation_precision\": 250, \"inverse_y_axis\": false, \"js\": [\"//kozea.github.io/pygal.js/2.0.x/pygal-tooltips.min.js\"], \"legend_at_bottom\": false, \"legend_at_bottom_columns\": null, \"legend_box_size\": 12, \"logarithmic\": false, \"margin\": 20, \"margin_bottom\": null, \"margin_left\": null, \"margin_right\": null, \"margin_top\": null, \"max_scale\": 16, \"min_scale\": 4, \"missing_value_fill_truncation\": \"x\", \"no_data_text\": \"No data\", \"no_prefix\": false, \"order_min\": null, \"pretty_print\": false, \"print_labels\": false, \"print_values\": false, \"print_values_position\": \"center\", \"print_zeroes\": true, \"range\": null, \"rounded_bars\": null, \"secondary_range\": null, \"show_dots\": true, \"show_legend\": true, \"show_minor_x_labels\": true, \"show_minor_y_labels\": true, \"show_only_major_dots\": false, \"show_x_guides\": false, \"show_x_labels\": true, \"show_y_guides\": true, \"show_y_labels\": true, \"spacing\": 10, \"stack_from_top\": false, \"strict\": false, \"stroke\": true, \"stroke_style\": null, \"style\": {\"background\": \"rgba(249, 249, 249, 1)\", \"ci_colors\": [], \"colors\": [\"#F44336\", \"#3F51B5\", \"#009688\", \"#FFC107\", \"#FF5722\", \"#9C27B0\", \"#03A9F4\", \"#8BC34A\", \"#FF9800\", \"#E91E63\", \"#2196F3\", \"#4CAF50\", \"#FFEB3B\", \"#673AB7\", \"#00BCD4\", \"#CDDC39\", \"#9E9E9E\", \"#607D8B\"], \"font_family\": \"Consolas, \\\"Liberation Mono\\\", Menlo, Courier, monospace\", \"foreground\": \"rgba(0, 0, 0, .87)\", \"foreground_strong\": \"rgba(0, 0, 0, 1)\", \"foreground_subtle\": \"rgba(0, 0, 0, .54)\", \"guide_stroke_dasharray\": \"4,4\", \"label_font_family\": \"Consolas, \\\"Liberation Mono\\\", Menlo, Courier, monospace\", \"label_font_size\": 10, \"legend_font_family\": \"Consolas, \\\"Liberation Mono\\\", Menlo, Courier, monospace\", \"legend_font_size\": 14, \"major_guide_stroke_dasharray\": \"6,6\", \"major_label_font_family\": \"Consolas, \\\"Liberation Mono\\\", Menlo, Courier, monospace\", \"major_label_font_size\": 10, \"no_data_font_family\": \"Consolas, \\\"Liberation Mono\\\", Menlo, Courier, monospace\", \"no_data_font_size\": 64, \"opacity\": \".7\", \"opacity_hover\": \".8\", \"plot_background\": \"rgba(255, 255, 255, 1)\", \"stroke_opacity\": \".8\", \"stroke_opacity_hover\": \".9\", \"title_font_family\": \"Consolas, \\\"Liberation Mono\\\", Menlo, Courier, monospace\", \"title_font_size\": 16, \"tooltip_font_family\": \"Consolas, \\\"Liberation Mono\\\", Menlo, Courier, monospace\", \"tooltip_font_size\": 14, \"transition\": \"150ms\", \"value_background\": \"rgba(229, 229, 229, 1)\", \"value_colors\": [], \"value_font_family\": \"Consolas, \\\"Liberation Mono\\\", Menlo, Courier, monospace\", \"value_font_size\": 16, \"value_label_font_family\": \"Consolas, \\\"Liberation Mono\\\", Menlo, Courier, monospace\", \"value_label_font_size\": 10}, \"title\": \"\\u79df\\u623f\\u72b6\\u51b5\", \"tooltip_border_radius\": 0, \"tooltip_fancy_mode\": true, \"truncate_label\": null, \"truncate_legend\": null, \"width\": 800, \"x_label_rotation\": 0, \"x_labels\": null, \"x_labels_major\": null, \"x_labels_major_count\": null, \"x_labels_major_every\": null, \"x_title\": null, \"xrange\": null, \"y_label_rotation\": 0, \"y_labels\": null, \"y_labels_major\": null, \"y_labels_major_count\": null, \"y_labels_major_every\": null, \"y_title\": null, \"zero\": 0, \"legends\": [\"\\u6574\\u79df9052\", \"\\u4e3b\\u53674130\", \"\\u6b21\\u53672397\"]}</script><script type=\"text/javascript\" xlink:href=\"https://kozea.github.io/pygal.js/2.0.x/pygal-tooltips.min.js\"/></defs><title>租房状况</title><g class=\"graph pie-graph vertical\"><rect class=\"background\" height=\"600\" width=\"800\" x=\"0\" y=\"0\"/><g class=\"plot\" transform=\"translate(92, 46)\"><rect class=\"background\" height=\"534\" width=\"687.6\" x=\"0\" y=\"0\"/><g class=\"series serie-0 color-0\"><g class=\"slices\"><g class=\"slice\"><path class=\"slice reactive tooltip-trigger\" d=\"M343.800000 26.700000 A240.300000 240.300000 0 1 1 226.662934 476.816581 L343.800000 267.000000 A0.000000 0.000000 0 1 0 343.800000 267.000000 z\"/><desc class=\"value\">9052</desc><desc class=\"x centered\">460.0771551411034</desc><desc class=\"y centered\">297.25963800662146</desc></g></g></g><g class=\"series serie-1 color-1\"><g class=\"slices\"><g class=\"slice\"><path class=\"slice reactive tooltip-trigger\" d=\"M226.662934 476.816581 A240.300000 240.300000 0 0 1 146.024273 130.512448 L343.800000 267.000000 A0.000000 0.000000 0 0 0 343.800000 267.000000 z\"/><desc class=\"value\">4130</desc><desc class=\"x centered\">226.7806052847293</desc><desc class=\"y centered\">294.2485551997105</desc></g></g></g><g class=\"series serie-2 color-2\"><g class=\"slices\"><g class=\"slice\"><path class=\"slice reactive tooltip-trigger\" d=\"M146.024273 130.512448 A240.300000 240.300000 0 0 1 343.800000 26.700000 L343.800000 267.000000 A0.000000 0.000000 0 0 0 343.800000 267.000000 z\"/><desc class=\"value\">2397</desc><desc class=\"x centered\">287.9585600984961</desc><desc class=\"y centered\">160.61505703471602</desc></g></g></g></g><g class=\"titles\"><text class=\"title plot_title\" x=\"400.0\" y=\"26\">租房状况</text></g><g class=\"plot overlay\" transform=\"translate(92, 46)\"><g class=\"series serie-0 color-0\"/><g class=\"series serie-1 color-1\"/><g class=\"series serie-2 color-2\"/></g><g class=\"plot text-overlay\" transform=\"translate(92, 46)\"><g class=\"series serie-0 color-0\"/><g class=\"series serie-1 color-1\"/><g class=\"series serie-2 color-2\"/></g><g class=\"plot tooltip-overlay\" transform=\"translate(92, 46)\"><g class=\"tooltip\" style=\"opacity: 0\" transform=\"translate(0 0)\"><rect class=\"tooltip-box\" height=\"0\" rx=\"0\" ry=\"0\" width=\"0\"/><g class=\"text\"/></g></g><g class=\"legends\" transform=\"translate(10, 56)\"><g class=\"legend reactive activate-serie\" id=\"activate-serie-0\"><rect class=\"color-0 reactive\" height=\"12\" width=\"12\" x=\"0.0\" y=\"1.0\"/><text x=\"17.0\" y=\"11.2\">整租9052</text></g><g class=\"legend reactive activate-serie\" id=\"activate-serie-1\"><rect class=\"color-1 reactive\" height=\"12\" width=\"12\" x=\"0.0\" y=\"22.0\"/><text x=\"17.0\" y=\"32.2\">主卧4130</text></g><g class=\"legend reactive activate-serie\" id=\"activate-serie-2\"><rect class=\"color-2 reactive\" height=\"12\" width=\"12\" x=\"0.0\" y=\"43.0\"/><text x=\"17.0\" y=\"53.2\">次卧2397</text></g></g><g class=\"legends\" transform=\"translate(790, 56)\"/></g></svg>"
      ],
      "text/plain": [
       "<IPython.core.display.HTML object>"
      ]
     },
     "execution_count": 21,
     "metadata": {},
     "output_type": "execute_result"
    }
   ],
   "source": [
    "pie_chart = pygal.Pie()\n",
    "pie_chart.title = '租房状况'\n",
    "pie_chart.add('整租{}'.format(zz),zz)\n",
    "pie_chart.add('主卧{}'.format(zw),zw)\n",
    "pie_chart.add('次卧{}'.format(cw),cw)\n",
    "HTML(pie_chart.render().decode())"
   ]
  },
  {
   "cell_type": "markdown",
   "metadata": {},
   "source": [
    "# 深入分析"
   ]
  },
  {
   "cell_type": "markdown",
   "metadata": {},
   "source": [
    "现在的数据还是不规整，接下来转成dataframe格式，找出unique值，进行更多分析"
   ]
  },
  {
   "cell_type": "code",
   "execution_count": 25,
   "metadata": {},
   "outputs": [],
   "source": [
    "import pandas as pd"
   ]
  },
  {
   "cell_type": "code",
   "execution_count": 39,
   "metadata": {},
   "outputs": [
    {
     "name": "stdout",
     "output_type": "stream",
     "text": [
      "2018-09-04 00:51:33,673 INFO sqlalchemy.engine.base.Engine PRAGMA table_info(\"SELECT * FROM ZuFang\")\n",
      "2018-09-04 00:51:33,675 INFO sqlalchemy.engine.base.Engine ()\n",
      "2018-09-04 00:51:33,679 INFO sqlalchemy.engine.base.Engine SELECT * FROM ZuFang\n",
      "2018-09-04 00:51:33,680 INFO sqlalchemy.engine.base.Engine ()\n"
     ]
    }
   ],
   "source": [
    "sql_cmd = \"SELECT * FROM ZuFang\"\n",
    "df = pd.read_sql(sql_cmd, con = engine)"
   ]
  },
  {
   "cell_type": "code",
   "execution_count": 70,
   "metadata": {},
   "outputs": [
    {
     "data": {
      "text/html": [
       "<div>\n",
       "<style scoped>\n",
       "    .dataframe tbody tr th:only-of-type {\n",
       "        vertical-align: middle;\n",
       "    }\n",
       "\n",
       "    .dataframe tbody tr th {\n",
       "        vertical-align: top;\n",
       "    }\n",
       "\n",
       "    .dataframe thead th {\n",
       "        text-align: right;\n",
       "    }\n",
       "</style>\n",
       "<table border=\"1\" class=\"dataframe\">\n",
       "  <thead>\n",
       "    <tr style=\"text-align: right;\">\n",
       "      <th></th>\n",
       "      <th>title</th>\n",
       "      <th>rent</th>\n",
       "      <th>info</th>\n",
       "      <th>address</th>\n",
       "    </tr>\n",
       "  </thead>\n",
       "  <tbody>\n",
       "    <tr>\n",
       "      <th>6</th>\n",
       "      <td>地铁6号线北运河西附近运河园的两居家电家具全齐出租</td>\n",
       "      <td>4000 元/月</td>\n",
       "      <td>整租 2室1厅1卫 95㎡ 南北向 低层（共6层）\\n 简单装修</td>\n",
       "      <td>通州  武夷花园租房 运河园</td>\n",
       "    </tr>\n",
       "    <tr>\n",
       "      <th>7</th>\n",
       "      <td>沙河地铁 五福家园精装 两居室 随时入住 民水民电 包物业供</td>\n",
       "      <td>3700 元/月</td>\n",
       "      <td>整租 2室1厅1卫 85㎡ 南北向 中层（共6层）\\n 精装修</td>\n",
       "      <td>昌平  沙河镇租房 五福家园</td>\n",
       "    </tr>\n",
       "    <tr>\n",
       "      <th>8</th>\n",
       "      <td>西湖新村南北朝向大三居出租</td>\n",
       "      <td>5500 元/月</td>\n",
       "      <td>整租 3室2厅1卫 137㎡ 南北向 高层（共6层）\\n 精装修</td>\n",
       "      <td>昌平  北七家租房</td>\n",
       "    </tr>\n",
       "    <tr>\n",
       "      <th>9</th>\n",
       "      <td>领地OFFICE 3室1厅 一层带半地下 可做教育</td>\n",
       "      <td>15500 元/月</td>\n",
       "      <td>整租 3室1厅1卫 170㎡ 南北向 低层（共11层）\\n 精装修</td>\n",
       "      <td>朝阳  北苑租房 领地OFFICE</td>\n",
       "    </tr>\n",
       "    <tr>\n",
       "      <th>10</th>\n",
       "      <td>宏福苑 电梯 大三居两卫6000  精装修 全齐 预约看房</td>\n",
       "      <td>6000 元/月</td>\n",
       "      <td>整租 3室2厅2卫 130㎡ 南北向 中层（共9层）\\n 精装修</td>\n",
       "      <td>昌平  北七家租房 宏福苑</td>\n",
       "    </tr>\n",
       "  </tbody>\n",
       "</table>\n",
       "</div>"
      ],
      "text/plain": [
       "                             title       rent  \\\n",
       "6        地铁6号线北运河西附近运河园的两居家电家具全齐出租   4000 元/月   \n",
       "7   沙河地铁 五福家园精装 两居室 随时入住 民水民电 包物业供   3700 元/月   \n",
       "8                    西湖新村南北朝向大三居出租   5500 元/月   \n",
       "9        领地OFFICE 3室1厅 一层带半地下 可做教育  15500 元/月   \n",
       "10   宏福苑 电梯 大三居两卫6000  精装修 全齐 预约看房   6000 元/月   \n",
       "\n",
       "                                 info             address  \n",
       "6    整租 2室1厅1卫 95㎡ 南北向 低层（共6层）\\n 简单装修      通州  武夷花园租房 运河园  \n",
       "7     整租 2室1厅1卫 85㎡ 南北向 中层（共6层）\\n 精装修      昌平  沙河镇租房 五福家园  \n",
       "8    整租 3室2厅1卫 137㎡ 南北向 高层（共6层）\\n 精装修           昌平  北七家租房  \n",
       "9   整租 3室1厅1卫 170㎡ 南北向 低层（共11层）\\n 精装修   朝阳  北苑租房 领地OFFICE  \n",
       "10   整租 3室2厅2卫 130㎡ 南北向 中层（共9层）\\n 精装修       昌平  北七家租房 宏福苑  "
      ]
     },
     "execution_count": 70,
     "metadata": {},
     "output_type": "execute_result"
    }
   ],
   "source": [
    "df.head()"
   ]
  },
  {
   "cell_type": "code",
   "execution_count": 66,
   "metadata": {},
   "outputs": [
    {
     "data": {
      "text/plain": [
       "16638"
      ]
     },
     "execution_count": 66,
     "metadata": {},
     "output_type": "execute_result"
    }
   ],
   "source": [
    "len(df)"
   ]
  },
  {
   "cell_type": "markdown",
   "metadata": {},
   "source": [
    "### 区域"
   ]
  },
  {
   "cell_type": "code",
   "execution_count": null,
   "metadata": {},
   "outputs": [],
   "source": [
    "region = "
   ]
  },
  {
   "cell_type": "code",
   "execution_count": null,
   "metadata": {},
   "outputs": [],
   "source": []
  },
  {
   "cell_type": "markdown",
   "metadata": {},
   "source": [
    "# 小节"
   ]
  },
  {
   "cell_type": "markdown",
   "metadata": {},
   "source": [
    "#### 知识点：\n",
    "- pygal、cairosvg、cairo第三方库文件\n",
    "- sqlalchemy 查询作用\n",
    "\n",
    "- 晚上脚本爬虫"
   ]
  },
  {
   "cell_type": "code",
   "execution_count": null,
   "metadata": {
    "collapsed": true
   },
   "outputs": [],
   "source": []
  }
 ],
 "metadata": {
  "kernelspec": {
   "display_name": "Python 3",
   "language": "python",
   "name": "python3"
  },
  "language_info": {
   "codemirror_mode": {
    "name": "ipython",
    "version": 3
   },
   "file_extension": ".py",
   "mimetype": "text/x-python",
   "name": "python",
   "nbconvert_exporter": "python",
   "pygments_lexer": "ipython3",
   "version": "3.6.5"
  }
 },
 "nbformat": 4,
 "nbformat_minor": 2
}
